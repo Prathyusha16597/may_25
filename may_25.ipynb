{
 "cells": [
  {
   "cell_type": "code",
   "execution_count": 1,
   "id": "c555a4f2",
   "metadata": {},
   "outputs": [
    {
     "name": "stdout",
     "output_type": "stream",
     "text": [
      "this is Instance Method\n",
      "Enter a Number : 78\n",
      "Enter a Number : 90\n",
      "Sum is :  168\n"
     ]
    }
   ],
   "source": [
    "class Demo1:\n",
    "    def __init__(self):\n",
    "        print(\"this is Instance Method\")\n",
    "    def add(self):\n",
    "        a=int(input(\"Enter a Number : \"))\n",
    "        b=int(input(\"Enter a Number : \"))\n",
    "        c=a+b\n",
    "        print(\"Sum is : \",c)\n",
    "d=Demo1()\n",
    "d.add()"
   ]
  },
  {
   "cell_type": "code",
   "execution_count": 4,
   "id": "04d61375",
   "metadata": {},
   "outputs": [
    {
     "name": "stdout",
     "output_type": "stream",
     "text": [
      "this is class method\n",
      "Enter a Number : 90\n",
      "Enter a Number : 34\n",
      "Multipication :  3060\n"
     ]
    }
   ],
   "source": [
    "class Demo2:\n",
    "    def __init__(self):\n",
    "        print(\"this is class method\")\n",
    "    @classmethod\n",
    "    def mul(cls):\n",
    "        a=int(input(\"Enter a Number : \"))\n",
    "        b=int(input(\"Enter a Number : \"))\n",
    "        c=a*b\n",
    "        print(\"Multipication : \",c)\n",
    "\n",
    "d=Demo2()       \n",
    "Demo2.mul()\n",
    "        "
   ]
  },
  {
   "cell_type": "code",
   "execution_count": 5,
   "id": "d463b9ec",
   "metadata": {},
   "outputs": [
    {
     "name": "stdout",
     "output_type": "stream",
     "text": [
      "Enter a Number : 4932\n",
      "Enter a Number : 2345\n",
      "Subraction :  2587\n"
     ]
    }
   ],
   "source": [
    "class Demo3:\n",
    "    @staticmethod\n",
    "    def sub():\n",
    "        a=int(input(\"Enter a Number : \"))\n",
    "        b=int(input(\"Enter a Number : \"))\n",
    "        c=a-b\n",
    "        print(\"Subraction : \",c)\n",
    "Demo3.sub()"
   ]
  },
  {
   "cell_type": "code",
   "execution_count": 10,
   "id": "22709e8f",
   "metadata": {},
   "outputs": [
    {
     "name": "stdout",
     "output_type": "stream",
     "text": [
      "Enter a PI Value : 3.14\n",
      "Enter a r Value : 8\n",
      "Rectangle :  200.96\n"
     ]
    }
   ],
   "source": [
    "class Demo4:\n",
    "    @staticmethod\n",
    "    def rectangle(pi,r):\n",
    "        ra=pi*r*r\n",
    "        print(\"Rectangle : \",ra)\n",
    "x1=float(input(\"Enter a PI Value : \"))\n",
    "x2=int(input(\"Enter a r Value : \"))\n",
    "Demo4.rectangle(x1,x2)"
   ]
  },
  {
   "cell_type": "markdown",
   "id": "8ca24714",
   "metadata": {},
   "source": []
  },
  {
   "cell_type": "code",
   "execution_count": 24,
   "id": "c34e3e73",
   "metadata": {},
   "outputs": [
    {
     "name": "stdout",
     "output_type": "stream",
     "text": [
      "Enter a  Number : 4\n",
      "Enter a Numbers : 34\n",
      "Enter a Numbers : 89\n",
      "Enter a Numbers : 20\n",
      "List of the Values :  [34, 89, 20]\n",
      "Methods in Python\n",
      "Max Value :  89\n",
      "Min Value :  20\n",
      "Sum of the Values :  143\n"
     ]
    }
   ],
   "source": [
    "class Demo5:\n",
    "    lst=[]\n",
    "    n1=int(input(\"Enter a  Number : \"))\n",
    "    for i in range(1,n1):\n",
    "        num=int(input(\"Enter a Numbers : \"))\n",
    "        lst.append(num)\n",
    "    print(\"List of the Values : \",lst)\n",
    "    def __init__(self):\n",
    "        print(\"Methods in Python\")\n",
    "    def max_value(self):\n",
    "        m=max(self.lst)\n",
    "        print(\"Max Value : \",m)\n",
    "    @classmethod\n",
    "    def min_value(cls):\n",
    "        mi=min(cls.lst)\n",
    "        print(\"Min Value : \",mi)\n",
    "    @staticmethod\n",
    "    def sum_values():\n",
    "        s=sum(Demo5.lst)\n",
    "        print(\"Sum of the Values : \",s)\n",
    "d=Demo5()\n",
    "d.max_value()\n",
    "Demo5.min_value()\n",
    "Demo5.sum_values()"
   ]
  },
  {
   "cell_type": "code",
   "execution_count": 34,
   "id": "1356152c",
   "metadata": {},
   "outputs": [
    {
     "name": "stdout",
     "output_type": "stream",
     "text": [
      "Enter a Pi Value : 3.14\n",
      "Enter a R Value : 4.5\n",
      "Enter a Length Value : 9\n",
      "Enter a brith Value : 4.5\n",
      "Method in Python\n",
      "63.585\n",
      "31.7925\n",
      "40.5\n"
     ]
    }
   ],
   "source": [
    "class Demo6:\n",
    "    def __init__(self):\n",
    "        print(\"Method in Python\")\n",
    "    def cricle(self,pi,r):\n",
    "        cri=pi*r*r\n",
    "        return cri\n",
    "    @classmethod\n",
    "    def semiCricle(cls,pi,r):\n",
    "        semi_cri=(pi*r*r)/2\n",
    "        return semi_cri\n",
    "    @staticmethod\n",
    "    def rectangle(l,b):\n",
    "        re=l*b\n",
    "        return re\n",
    "p=float(input(\"Enter a Pi Value : \"))\n",
    "r=float(input(\"Enter a R Value : \"))\n",
    "x1=float(input(\"Enter a Length Value : \"))\n",
    "x2=float(input(\"Enter a brith Value : \"))\n",
    "d=Demo6()\n",
    "print(d.cricle(p,r))\n",
    "print(Demo6.semiCricle(p,r))\n",
    "print(Demo6.rectangle(x1,x2))\n",
    "#print(\"Area of Cricle : \",d.cricle())\n",
    "#print(\"Area of Semi Cricle : \",semi_cri)\n",
    "#print(\"Area of Rectangle : \",re)\n",
    "\n",
    "        "
   ]
  },
  {
   "cell_type": "code",
   "execution_count": null,
   "id": "ce2cd598",
   "metadata": {},
   "outputs": [],
   "source": []
  }
 ],
 "metadata": {
  "kernelspec": {
   "display_name": "Python 3",
   "language": "python",
   "name": "python3"
  }
 },
 "nbformat": 4,
 "nbformat_minor": 5
}
